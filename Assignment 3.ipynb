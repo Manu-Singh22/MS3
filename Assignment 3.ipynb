{
 "cells": [
  {
   "cell_type": "code",
   "execution_count": 3,
   "metadata": {},
   "outputs": [
    {
     "name": "stdout",
     "output_type": "stream",
     "text": [
      "enter the value of a:5\n",
      "enter the value of b:0\n",
      "a/b is in indeterminant\n",
      "program is executed successfully\n"
     ]
    }
   ],
   "source": [
    "#task1\n",
    "#1\n",
    "try:\n",
    "    a=int(input(\"enter the value of a:\"))\n",
    "    b=int(input(\"enter the value of b:\"))\n",
    "    compute=a/b\n",
    "    print(\"the value of a/b is\",compute)\n",
    "except:\n",
    "    if b==0:\n",
    "        print(\"a/b is in indeterminant\")\n",
    "    else:\n",
    "        print(\"check whether a and b are integers or not\")\n",
    "else:\n",
    "    print(\"calculation is done successfully\")\n",
    "finally:\n",
    "    print(\"program is executed successfully\")"
   ]
  },
  {
   "cell_type": "code",
   "execution_count": 6,
   "metadata": {},
   "outputs": [
    {
     "name": "stdout",
     "output_type": "stream",
     "text": [
      "americans play basketball\n",
      "americans play cricket\n",
      "americans watch basketball\n",
      "americans watch cricket\n",
      "indians play basketball\n",
      "indians play cricket\n",
      "indians watch basketball\n",
      "indians watch cricket\n"
     ]
    }
   ],
   "source": [
    "#2\n",
    "subjects=[\"americans\",\"indians\"]\n",
    "verbs=[\"play\",\"watch\"]\n",
    "objects=[\"basketball\",\"cricket\"]\n",
    "for i in subjects:\n",
    "    for j in verbs:\n",
    "        for k in objects:\n",
    "            print (i+\" \"+j+\" \"+k)"
   ]
  },
  {
   "cell_type": "code",
   "execution_count": 10,
   "metadata": {
    "scrolled": true
   },
   "outputs": [
    {
     "data": {
      "text/plain": [
       "array([[ 1,  2,  4],\n",
       "       [ 1,  4, 16],\n",
       "       [ 1,  5, 25]])"
      ]
     },
     "execution_count": 10,
     "metadata": {},
     "output_type": "execute_result"
    }
   ],
   "source": [
    "#task2\n",
    "import numpy as np\n",
    "def alex_matrix(vector,n, increase=True):\n",
    "    if not increase:\n",
    "        mat=np.array([x**(n-i-1) for x in vector for i in range(n)]).reshape(len(vector),n)\n",
    "        return mat\n",
    "    else: \n",
    "        mat=np.array([x**i for x in vector for i in range(n)]).reshape(len(vector),n)\n",
    "        return mat\n",
    "l=[2,4,5]\n",
    "alex_matrix(l,3, increase=True)\n"
   ]
  },
  {
   "cell_type": "code",
   "execution_count": null,
   "metadata": {},
   "outputs": [],
   "source": []
  },
  {
   "cell_type": "code",
   "execution_count": null,
   "metadata": {},
   "outputs": [],
   "source": []
  }
 ],
 "metadata": {
  "kernelspec": {
   "display_name": "Python 3",
   "language": "python",
   "name": "python3"
  },
  "language_info": {
   "codemirror_mode": {
    "name": "ipython",
    "version": 3
   },
   "file_extension": ".py",
   "mimetype": "text/x-python",
   "name": "python",
   "nbconvert_exporter": "python",
   "pygments_lexer": "ipython3",
   "version": "3.7.2"
  }
 },
 "nbformat": 4,
 "nbformat_minor": 4
}
